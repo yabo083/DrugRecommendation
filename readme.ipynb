{
 "cells": [
  {
   "cell_type": "markdown",
   "source": [
    "简述下这次主要做了什么：（大部分还是参考大佬的框架）\n",
    "1. 模型搭起来了，但是有一说一应该是输入状态(B, 11)产生动作(B, 13),如果我没想错输入应该是个一维向量，所以全用线性层了+ReLU，但感觉不是很明朗，不知道怎么就变过去的？\n",
    "\n",
    "2. 其次是Agent，主要是update方法，需要仔细设计下，有点拿不准。\n",
    "\n",
    "3. 最后是State和Action，在没有正式运行之前，先不搞什么标准化函数，妄想直接输入数据就自动处理，应该是有了一批数据之后在外边进行处理，标准化之后再封装为State，而且就算是EnvController中的正常人指标，用标准化吗？应该也需要，因为之后到了奖励函数中的\n",
    "各种State进行均方误差计算，如果不标准化，那么这两种指标的量纲就不一样了，所以应该是需要标准化的。\n",
    "\n",
    "4. 而且Action的12个动作，意义也应该改变，只是说应该是12个空槽，随便什么药都行。\n",
    "因为现在的目的是在未来医生已经开出治疗方案的前提下，对已有用药方案的优化，在代理模型完全学习到病人身体对药物的反应后，智能体就根据已有的药物方案，开始调整剂量和时间，给病人提供建议。甚至可以是A，B，C药...\n"
   ],
   "metadata": {
    "collapsed": false
   },
   "id": "fbeda37c484dfad3"
  }
 ],
 "metadata": {
  "kernelspec": {
   "display_name": "Python 3",
   "language": "python",
   "name": "python3"
  },
  "language_info": {
   "codemirror_mode": {
    "name": "ipython",
    "version": 2
   },
   "file_extension": ".py",
   "mimetype": "text/x-python",
   "name": "python",
   "nbconvert_exporter": "python",
   "pygments_lexer": "ipython2",
   "version": "2.7.6"
  }
 },
 "nbformat": 4,
 "nbformat_minor": 5
}
